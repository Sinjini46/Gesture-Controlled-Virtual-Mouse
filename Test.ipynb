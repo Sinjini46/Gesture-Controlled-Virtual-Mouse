{
 "cells": [
  {
   "cell_type": "code",
   "execution_count": 1,
   "id": "5dd77676-3a3e-41e8-b8a7-86a7ccf2c1b6",
   "metadata": {},
   "outputs": [],
   "source": [
    "import cv2\n",
    "import time\n",
    "import numpy as np\n",
    "import mediapipe as mp"
   ]
  },
  {
   "cell_type": "code",
   "execution_count": 2,
   "id": "c43585b3-786c-4101-a874-96398d3299f0",
   "metadata": {},
   "outputs": [],
   "source": [
    "wCam, hCam = 640, 480\n",
    "pTime = 0"
   ]
  },
  {
   "cell_type": "code",
   "execution_count": 3,
   "id": "00af4a6f-3dbd-46d8-8af5-48087a5fe2af",
   "metadata": {},
   "outputs": [
    {
     "data": {
      "text/plain": [
       "True"
      ]
     },
     "execution_count": 3,
     "metadata": {},
     "output_type": "execute_result"
    }
   ],
   "source": [
    "cap = cv2.VideoCapture(1)\n",
    "\n",
    "cap.set(3, wCam)\n",
    "cap.set(4, hCam)"
   ]
  },
  {
   "cell_type": "code",
   "execution_count": 4,
   "id": "9a358106-cecf-4863-a48d-81943758b3ef",
   "metadata": {},
   "outputs": [],
   "source": [
    "mp_drawing = mp.solutions.drawing_utils\n",
    "mp_hands = mp.solutions.hands"
   ]
  },
  {
   "cell_type": "code",
   "execution_count": 5,
   "id": "74c61b39-2692-46a2-a9f0-4e1ad82ed9e1",
   "metadata": {},
   "outputs": [],
   "source": [
    "detector = mp_hands.Hands(max_num_hands=1,min_detection_confidence=0.7, min_tracking_confidence=0.5)\n"
   ]
  },
  {
   "cell_type": "code",
   "execution_count": 9,
   "id": "29b6af01-edf3-4531-ac4e-c32cc05becf0",
   "metadata": {},
   "outputs": [
    {
     "ename": "TypeError",
     "evalue": "'NormalizedLandmarkList' object is not iterable",
     "output_type": "error",
     "traceback": [
      "\u001b[1;31m---------------------------------------------------------------------------\u001b[0m",
      "\u001b[1;31mTypeError\u001b[0m                                 Traceback (most recent call last)",
      "Cell \u001b[1;32mIn[9], line 17\u001b[0m\n\u001b[0;32m     13\u001b[0m mp_drawing\u001b[38;5;241m.\u001b[39mdraw_landmarks(img, hand_landmarks, mp_hands\u001b[38;5;241m.\u001b[39mHAND_CONNECTIONS, \n\u001b[0;32m     14\u001b[0m                           mp_drawing\u001b[38;5;241m.\u001b[39mDrawingSpec(color\u001b[38;5;241m=\u001b[39m(\u001b[38;5;241m0\u001b[39m, \u001b[38;5;241m255\u001b[39m, \u001b[38;5;241m0\u001b[39m), thickness\u001b[38;5;241m=\u001b[39m\u001b[38;5;241m2\u001b[39m, circle_radius\u001b[38;5;241m=\u001b[39m\u001b[38;5;241m2\u001b[39m),\n\u001b[0;32m     15\u001b[0m                           mp_drawing\u001b[38;5;241m.\u001b[39mDrawingSpec(color\u001b[38;5;241m=\u001b[39m(\u001b[38;5;241m0\u001b[39m, \u001b[38;5;241m0\u001b[39m, \u001b[38;5;241m255\u001b[39m), thickness\u001b[38;5;241m=\u001b[39m\u001b[38;5;241m2\u001b[39m, circle_radius\u001b[38;5;241m=\u001b[39m\u001b[38;5;241m2\u001b[39m))\n\u001b[0;32m     16\u001b[0m landmarks \u001b[38;5;241m=\u001b[39m hand_landmarks\n\u001b[1;32m---> 17\u001b[0m \u001b[38;5;28;01mfor\u001b[39;00m \u001b[38;5;28mid\u001b[39m, landmark \u001b[38;5;129;01min\u001b[39;00m \u001b[38;5;28;43menumerate\u001b[39;49m\u001b[43m(\u001b[49m\u001b[43mlandmarks\u001b[49m\u001b[43m)\u001b[49m: \n\u001b[0;32m     19\u001b[0m     x \u001b[38;5;241m=\u001b[39m landmark\u001b[38;5;241m.\u001b[39mx\n\u001b[0;32m     20\u001b[0m     y \u001b[38;5;241m=\u001b[39m landmark\u001b[38;5;241m.\u001b[39my\n",
      "\u001b[1;31mTypeError\u001b[0m: 'NormalizedLandmarkList' object is not iterable"
     ]
    }
   ],
   "source": [
    "while True:\n",
    "\n",
    "    #1. Find hand Landmarkrs\n",
    "    _, img = cap.read()\n",
    "\n",
    "    RGB_frame = cv2.cvtColor(img, cv2.COLOR_BGR2RGB)\n",
    "\n",
    "    result = detector.process(RGB_frame)\n",
    "\n",
    "    if result.multi_hand_landmarks:\n",
    "        for hand_landmarks in result.multi_hand_landmarks:\n",
    "            # print(hand_landmarks)\n",
    "            mp_drawing.draw_landmarks(img, hand_landmarks, mp_hands.HAND_CONNECTIONS,\n",
    "                                      mp_drawing.DrawingSpec(color=(0, 255, 0), thickness=2, circle_radius=2),\n",
    "                                      mp_drawing.DrawingSpec(color=(0, 0, 255), thickness=2, circle_radius=2))\n",
    "            landmarks = hand_landmarks\n",
    "            for id, landmark in enumerate(landmarks):\n",
    "\n",
    "                x = landmark.x\n",
    "                y = landmark.y\n",
    "                print(x,y)\n",
    "\n",
    "    #2. Get the tip of Index and Middle Fingers\n",
    "    #3. Check which fingers are up\n",
    "    #4. Only Index Finger: Moving mode\n",
    "    #5. Convert Coordinates\n",
    "    #6. Smoothen Values\n",
    "    #7. Move Mouse\n",
    "    #8 Both Index and middle fingers are up : Clicking Mode\n",
    "    #9. Find distance between fingers\n",
    "    #10. Click mouse if distance is short\n",
    "\n",
    "    #11. Frame Rate\n",
    "    cTime = time.time()\n",
    "    fps = 1/(cTime-pTime)\n",
    "    pTime = cTime\n",
    "    #Flip Image\n",
    "    img = cv2.flip(img, 1)\n",
    "    cv2.putText(img, str(int(fps)), (20,50),cv2.FONT_HERSHEY_PLAIN, 3, (255,0,0), 3)\n",
    "\n",
    "    #12. Display\n",
    "    cv2.imshow(\"Imshow\", img)\n",
    "\n",
    "    if cv2.waitKey(10) == ord('q'):\n",
    "        break"
   ]
  },
  {
   "cell_type": "code",
   "execution_count": 7,
   "id": "58f2d5d3-5656-4ee4-8b5d-3bcb3320a93a",
   "metadata": {
    "scrolled": true
   },
   "outputs": [
    {
     "data": {
      "text/plain": [
       "type"
      ]
     },
     "execution_count": 7,
     "metadata": {},
     "output_type": "execute_result"
    }
   ],
   "source": [
    "type(result)"
   ]
  },
  {
   "cell_type": "code",
   "execution_count": 7,
   "id": "b12aa3f4-fd25-4d9d-90ae-5eb135ccf427",
   "metadata": {},
   "outputs": [
    {
     "data": {
      "text/plain": [
       "<function mediapipe.python.solutions.drawing_utils.draw_landmarks(image: numpy.ndarray, landmark_list: mediapipe.framework.formats.landmark_pb2.NormalizedLandmarkList, connections: Union[List[Tuple[int, int]], NoneType] = None, landmark_drawing_spec: Union[mediapipe.python.solutions.drawing_utils.DrawingSpec, Mapping[int, mediapipe.python.solutions.drawing_utils.DrawingSpec]] = DrawingSpec(color=(0, 0, 255), thickness=2, circle_radius=2), connection_drawing_spec: Union[mediapipe.python.solutions.drawing_utils.DrawingSpec, Mapping[Tuple[int, int], mediapipe.python.solutions.drawing_utils.DrawingSpec]] = DrawingSpec(color=(224, 224, 224), thickness=2, circle_radius=2), is_drawing_landmarks: bool = True)>"
      ]
     },
     "execution_count": 7,
     "metadata": {},
     "output_type": "execute_result"
    }
   ],
   "source": []
  },
  {
   "cell_type": "code",
   "execution_count": null,
   "id": "6067a91a-d167-4a7a-91f7-615ae55f33ec",
   "metadata": {},
   "outputs": [],
   "source": []
  },
  {
   "cell_type": "code",
   "execution_count": null,
   "id": "3537055a-0965-4346-a78b-e18358fa6283",
   "metadata": {},
   "outputs": [],
   "source": []
  },
  {
   "cell_type": "code",
   "execution_count": null,
   "id": "338a3f83-1229-4dfb-af16-39e5ca835570",
   "metadata": {},
   "outputs": [],
   "source": []
  },
  {
   "cell_type": "code",
   "execution_count": null,
   "id": "4f03ad1a-575d-4ff8-9c92-39f57ef8a3d6",
   "metadata": {},
   "outputs": [],
   "source": []
  },
  {
   "cell_type": "code",
   "execution_count": null,
   "id": "d1832552-eb3e-4b44-a8b7-b0dadcb066de",
   "metadata": {},
   "outputs": [],
   "source": []
  },
  {
   "cell_type": "code",
   "execution_count": null,
   "id": "db91c150-8b3e-4b97-abbd-9d9682a1d709",
   "metadata": {},
   "outputs": [],
   "source": []
  }
 ],
 "metadata": {
  "kernelspec": {
   "display_name": "Virtual Mouse Environment",
   "language": "python",
   "name": "env"
  },
  "language_info": {
   "codemirror_mode": {
    "name": "ipython",
    "version": 3
   },
   "file_extension": ".py",
   "mimetype": "text/x-python",
   "name": "python",
   "nbconvert_exporter": "python",
   "pygments_lexer": "ipython3",
   "version": "3.8.0"
  }
 },
 "nbformat": 4,
 "nbformat_minor": 5
}
